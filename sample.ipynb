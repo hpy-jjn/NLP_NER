{
 "cells": [
  {
   "cell_type": "code",
   "execution_count": 31,
   "metadata": {},
   "outputs": [
    {
     "name": "stdout",
     "output_type": "stream",
     "text": [
      "data shape: (569, 30); no. positive: 357; no. negative: 212\n",
      "[[1.799e+01 1.038e+01 1.228e+02 ... 2.654e-01 4.601e-01 1.189e-01]\n",
      " [2.057e+01 1.777e+01 1.329e+02 ... 1.860e-01 2.750e-01 8.902e-02]\n",
      " [1.969e+01 2.125e+01 1.300e+02 ... 2.430e-01 3.613e-01 8.758e-02]\n",
      " ...\n",
      " [1.660e+01 2.808e+01 1.083e+02 ... 1.418e-01 2.218e-01 7.820e-02]\n",
      " [2.060e+01 2.933e+01 1.401e+02 ... 2.650e-01 4.087e-01 1.240e-01]\n",
      " [7.760e+00 2.454e+01 4.792e+01 ... 0.000e+00 2.871e-01 7.039e-02]]\n"
     ]
    }
   ],
   "source": [
    "from sklearn.datasets import load_breast_cancer\n",
    "cancer = load_breast_cancer()\n",
    "X = cancer.data\n",
    "y = cancer.target\n",
    "print('data shape: {0}; no. positive: {1}; no. negative: {2}'\n",
    "      .format(X.shape,y[y==1].shape[0],y[y==0].shape[0]))\n",
    "print(cancer.data)"
   ]
  },
  {
   "cell_type": "code",
   "execution_count": 33,
   "metadata": {},
   "outputs": [
    {
     "data": {
      "text/plain": [
       "numpy.ndarray"
      ]
     },
     "execution_count": 33,
     "metadata": {},
     "output_type": "execute_result"
    }
   ],
   "source": [
    "type(y)"
   ]
  },
  {
   "cell_type": "code",
   "execution_count": 24,
   "metadata": {},
   "outputs": [],
   "source": [
    "from sklearn.model_selection import train_test_split\n",
    "X_train,X_test,y_train,y_test = train_test_split(X,y,test_size=0.2)"
   ]
  },
  {
   "cell_type": "code",
   "execution_count": 26,
   "metadata": {},
   "outputs": [
    {
     "name": "stdout",
     "output_type": "stream",
     "text": [
      "train score: 0.958242; test_score:0.938596\n"
     ]
    },
    {
     "name": "stderr",
     "output_type": "stream",
     "text": [
      "D:\\ProgramData\\Anaconda3\\lib\\site-packages\\sklearn\\linear_model\\logistic.py:432: FutureWarning: Default solver will be changed to 'lbfgs' in 0.22. Specify a solver to silence this warning.\n",
      "  FutureWarning)\n"
     ]
    }
   ],
   "source": [
    "from sklearn.linear_model import LogisticRegression\n",
    "model = LogisticRegression()\n",
    "model.fit(X_train,y_train)\n",
    "train_score = model.score(X_train,y_train)\n",
    "test_score = model.score(X_test,y_test)\n",
    "print('train score: {train_score:.6f}; test_score:{test_score:.6f}'\n",
    "      .format(train_score=train_score,\n",
    "             test_score=test_score))"
   ]
  },
  {
   "cell_type": "code",
   "execution_count": 29,
   "metadata": {},
   "outputs": [
    {
     "name": "stdout",
     "output_type": "stream",
     "text": [
      "matchs: 114/114\n"
     ]
    }
   ],
   "source": [
    "import numpy as np\n",
    "y_pred = model.predict(X_test)\n",
    "print('matchs: {0}/{1}'.format(np.equal(y_pred,y_test).shape[0],y_test.shape[0]))"
   ]
  },
  {
   "cell_type": "code",
   "execution_count": 34,
   "metadata": {},
   "outputs": [
    {
     "name": "stdout",
     "output_type": "stream",
     "text": [
      "sample of predict probability: [0.01544023 0.98455977]\n",
      "[[0.19154981 0.80845019]\n",
      " [0.8377734  0.1622266 ]\n",
      " [0.6999034  0.3000966 ]\n",
      " [0.76954516 0.23045484]\n",
      " [0.11108943 0.88891057]\n",
      " [0.77481748 0.22518252]\n",
      " [0.88825231 0.11174769]\n",
      " [0.10516658 0.89483342]\n",
      " [0.26388069 0.73611931]\n",
      " [0.86391225 0.13608775]\n",
      " [0.13407509 0.86592491]\n",
      " [0.26306254 0.73693746]\n",
      " [0.14377907 0.85622093]\n",
      " [0.83034555 0.16965445]\n",
      " [0.1164251  0.8835749 ]\n",
      " [0.23118047 0.76881953]\n",
      " [0.66277391 0.33722609]\n",
      " [0.29891757 0.70108243]\n",
      " [0.49841998 0.50158002]\n",
      " [0.13927627 0.86072373]\n",
      " [0.18525292 0.81474708]\n",
      " [0.51648552 0.48351448]]\n"
     ]
    }
   ],
   "source": [
    "# 预测概率：找出预测概率低于 90% 的样本\n",
    "y_pred_proba = model.predict_proba(X_test)     # 计算每个测试样本的预测概率\n",
    "# 打印出第一个样本的数据，以便读者了解数据形式\n",
    "print('sample of predict probability: {0}'.format(y_pred_proba[0]))\n",
    " \n",
    "# 找出第一列，即预测为阴性的概率大于 0.1 的样本，保存在 result 里\n",
    "y_pred_proba_0 = y_pred_proba[:, 0] > 0.1\n",
    "result = y_pred_proba[y_pred_proba_0]\n",
    " \n",
    "# 在 result 结果集里，找出第二列，即预测为阳性的概率大于 0.1 的样本\n",
    "y_pred_proba_1 = result[:, 1] > 0.1\n",
    "print(result[y_pred_proba_1])"
   ]
  },
  {
   "cell_type": "code",
   "execution_count": null,
   "metadata": {},
   "outputs": [],
   "source": []
  }
 ],
 "metadata": {
  "kernelspec": {
   "display_name": "Python (PyTorch)",
   "language": "python",
   "name": "pytorch"
  },
  "language_info": {
   "codemirror_mode": {
    "name": "ipython",
    "version": 3
   },
   "file_extension": ".py",
   "mimetype": "text/x-python",
   "name": "python",
   "nbconvert_exporter": "python",
   "pygments_lexer": "ipython3",
   "version": "3.7.3"
  }
 },
 "nbformat": 4,
 "nbformat_minor": 2
}
